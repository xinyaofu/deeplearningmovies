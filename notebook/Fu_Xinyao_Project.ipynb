{
 "cells": [
  {
   "cell_type": "markdown",
   "id": "ecc3b4a7-c837-4252-9826-af6365b675a0",
   "metadata": {},
   "source": [
    "# Fu_Xinyao_Project"
   ]
  },
  {
   "cell_type": "markdown",
   "id": "b67ad6d1-825d-4347-a9cd-e16aff8faded",
   "metadata": {},
   "source": [
    "Name: Xinyao Fu  \n",
    "Github Username: xinyaofu  \n",
    "USC ID: 3110633602"
   ]
  },
  {
   "cell_type": "markdown",
   "id": "9b2c53a1-d732-4024-bbaa-085488a2c285",
   "metadata": {},
   "source": [
    "### Packages Import"
   ]
  },
  {
   "cell_type": "code",
   "execution_count": 1,
   "id": "db0529ba-8704-40b8-a5b4-ae397f34aad1",
   "metadata": {
    "scrolled": true
   },
   "outputs": [],
   "source": [
    "import os\n",
    "import re\n",
    "import string\n",
    "import shutil\n",
    "import csv\n",
    "from pathlib import Path\n",
    "import numpy as np\n",
    "import matplotlib.pyplot as plt\n",
    "from tensorflow.keras.preprocessing.text import Tokenizer\n",
    "from tensorflow.keras.preprocessing.sequence import pad_sequences\n",
    "from tensorflow.keras.models import Sequential\n",
    "from tensorflow.keras.layers import Embedding, Flatten, Dense, Dropout, Conv1D, MaxPooling1D, LSTM"
   ]
  },
  {
   "cell_type": "markdown",
   "id": "a8739bda-0f13-441a-aaf7-58ab2e34122d",
   "metadata": {},
   "source": [
    "### Data Exploration and Pre-processing"
   ]
  },
  {
   "cell_type": "code",
   "execution_count": 2,
   "id": "79bef758-c719-466d-8ecd-bdf7d4c6eed4",
   "metadata": {},
   "outputs": [],
   "source": [
    "# Remove the punctuation and numbers\n",
    "def clean_data(path):\n",
    "    files = os.listdir(path)\n",
    "    for file_name in files:\n",
    "        file_path = os.path.join(path, file_name)\n",
    "        with open(file_path, 'r', encoding='utf-8') as file:\n",
    "            text = file.read()\n",
    "\n",
    "        cleaned_text = re.sub(r'\\d+', '', text)\n",
    "        cleaned_text = cleaned_text.translate(str.maketrans('', '', string.punctuation))\n",
    "        with open(file_path, 'w', encoding='utf-8') as file:\n",
    "            file.write(cleaned_text)\n",
    "\n",
    "neg_path = '../data/neg'\n",
    "clean_data(neg_path)\n",
    "pos_path = '../data/pos'\n",
    "clean_data(pos_path)"
   ]
  },
  {
   "cell_type": "code",
   "execution_count": 3,
   "id": "c2f82da8-b131-440c-accf-c8f3f19cbc46",
   "metadata": {},
   "outputs": [],
   "source": [
    "# split data into train set and test set\n",
    "def split_data(folder_path, output_path):\n",
    "    train_path = os.path.join(output_path, 'train')\n",
    "    test_path = os.path.join(output_path, 'test')\n",
    "\n",
    "    os.makedirs(train_path, exist_ok=True)\n",
    "    os.makedirs(test_path, exist_ok=True)\n",
    "    files = os.listdir(folder_path)\n",
    "    \n",
    "    for file_nm in files:\n",
    "        number = int(file_nm[2:5])\n",
    "        if 0 <= number <= 699:\n",
    "            target_folder = train_path\n",
    "        elif 700 <= number <= 999:\n",
    "            target_folder = test_path\n",
    "        else:\n",
    "            continue\n",
    "\n",
    "        source_file = os.path.join(folder_path, file_nm)\n",
    "        destination_file = os.path.join(target_folder, file_nm)\n",
    "        shutil.copy(source_file, destination_file)\n",
    "\n",
    "output_pos = '../data/splitted/pos'\n",
    "output_neg = '../data/splitted/neg'\n",
    "\n",
    "split_data(neg_path, output_neg)\n",
    "split_data(pos_path, output_pos)"
   ]
  },
  {
   "cell_type": "code",
   "execution_count": 4,
   "id": "1d51128e-3633-4527-ab2d-361603a2a1cf",
   "metadata": {},
   "outputs": [
    {
     "name": "stdout",
     "output_type": "stream",
     "text": [
      "The number of unique words in the whole dataset is 46830\n"
     ]
    }
   ],
   "source": [
    "# count the number of unique words in the whole dataset\n",
    "base_dir = Path('../data/splitted')\n",
    "unique_words = set()\n",
    "\n",
    "for path in base_dir.glob('**/*.txt'):\n",
    "    with open(path, 'r', encoding='utf-8') as file:\n",
    "        words = file.read().split()\n",
    "        unique_words.update(words)\n",
    "\n",
    "count_uw = len(unique_words)\n",
    "print(f'The number of unique words in the whole dataset is {count_uw}')"
   ]
  },
  {
   "cell_type": "code",
   "execution_count": 5,
   "id": "f29896be-1689-4c90-a8c1-c2e3c350db5d",
   "metadata": {},
   "outputs": [
    {
     "name": "stdout",
     "output_type": "stream",
     "text": [
      "Average review length is 644.3555\n",
      "Standard deviation of review lengths is 284.97987142910637\n"
     ]
    }
   ],
   "source": [
    "# Calculate the average review length and the standard deviation of review lengths\n",
    "lengths = []\n",
    "for path in base_dir.glob('**/*.txt'):\n",
    "    with open(path, 'r', encoding='utf-8') as file:\n",
    "        content = file.read()\n",
    "        words = content.split()\n",
    "        lengths.append(len(words))\n",
    "\n",
    "avg_length = np.mean(lengths)\n",
    "std_deviation = np.std(lengths)\n",
    "\n",
    "print(f'Average review length is {avg_length}')\n",
    "print(f'Standard deviation of review lengths is {std_deviation}')"
   ]
  },
  {
   "cell_type": "code",
   "execution_count": 6,
   "id": "a78c4957-3b6b-43ef-a024-682138bbe654",
   "metadata": {},
   "outputs": [
    {
     "data": {
      "image/png": "[encoded data removed]",
      "text/plain": [
       "<Figure size 800x500 with 1 Axes>"
      ]
     },
     "metadata": {},
     "output_type": "display_data"
    }
   ],
   "source": [
    "# Plot the histogram of review lengths\n",
    "plt.figure(figsize=(8, 5))\n",
    "plt.hist(lengths, bins=50)\n",
    "plt.title('Histogram of Review Lengths')\n",
    "plt.xlabel('Length of Reviews')\n",
    "plt.ylabel('Number of Reviews')\n",
    "plt.grid(True)\n",
    "plt.show()"
   ]
  },
  {
   "cell_type": "code",
   "execution_count": 7,
   "id": "b3d16696-64d9-4d26-9ae9-9d16d0e1e5bb",
   "metadata": {},
   "outputs": [
    {
     "name": "stdout",
     "output_type": "stream",
     "text": [
      "L is 737\n"
     ]
    }
   ],
   "source": [
    "# Select an length L that 70% of the reviews have a length below it\n",
    "L = int(np.percentile(lengths, 70))\n",
    "print(f\"L is {int(L)}\")"
   ]
  },
  {
   "cell_type": "code",
   "execution_count": 8,
   "id": "71b976f5-3eeb-42d7-b344-2a6f2710d49c",
   "metadata": {},
   "outputs": [],
   "source": [
    "# Tokenization, use binary encoding for the sentiments, and make all reviews to have the same length L\n",
    "base_dir = Path('../data/splitted')\n",
    "tokenizer = Tokenizer()\n",
    "\n",
    "train_data = []\n",
    "train_labels = []\n",
    "test_data = []\n",
    "test_labels = []\n",
    "\n",
    "for sentiment in ['pos', 'neg']:\n",
    "    sentiment_label = 1 if sentiment == 'pos' else -1\n",
    "    for dataset_type in ['train', 'test']:\n",
    "        dataset_path = base_dir / sentiment / dataset_type\n",
    "        for file_path in dataset_path.glob('*.txt'):\n",
    "            with open(file_path, 'r', encoding='utf-8') as file:\n",
    "                text = file.read()\n",
    "            tokenizer.fit_on_texts([text])\n",
    "            sequence = tokenizer.texts_to_sequences([text])\n",
    "            result_sequence = pad_sequences(sequence, maxlen=L, padding='post', truncating='post')\n",
    "\n",
    "            if dataset_type == 'train':\n",
    "                train_data.append(result_sequence)\n",
    "                train_labels.append(sentiment_label)\n",
    "            else:\n",
    "                test_data.append(result_sequence)\n",
    "                test_labels.append(sentiment_label)\n",
    "\n",
    "train_data = np.vstack(train_data)\n",
    "train_labels = np.array(train_labels)\n",
    "test_data = np.vstack(test_data)\n",
    "test_labels = np.array(test_labels)\n",
    "\n",
    "np.save('../data/train_data.npy', train_data)\n",
    "np.save('../data/train_labels.npy', train_labels)\n",
    "np.save('../data/test_data.npy', test_data)\n",
    "np.save('../data/test_labels.npy', test_labels)"
   ]
  },
  {
   "cell_type": "markdown",
   "id": "9077bd0d-ad83-4f72-b1a9-8fdf6096443a",
   "metadata": {},
   "source": [
    "### Word Embeddings"
   ]
  },
  {
   "cell_type": "code",
   "execution_count": 9,
   "id": "c5dedfc4-06ad-43b8-8863-ab80a0f9c18c",
   "metadata": {},
   "outputs": [
    {
     "name": "stderr",
     "output_type": "stream",
     "text": [
      "C:\\Users\\lenovo\\tf_env\\lib\\site-packages\\keras\\src\\layers\\core\\embedding.py:90: UserWarning: Argument `input_length` is deprecated. Just remove it.\n",
      "  warnings.warn(\n"
     ]
    }
   ],
   "source": [
    "top_words = 5000\n",
    "model = Sequential()\n",
    "model.add(Embedding(top_words, 32, input_length=L))\n",
    "model.add(Flatten())"
   ]
  },
  {
   "cell_type": "markdown",
   "id": "b456127d-90da-410c-9de8-76ce76a7786f",
   "metadata": {},
   "source": [
    "### Multi-Layer Perceptron"
   ]
  },
  {
   "cell_type": "markdown",
   "id": "14d6a263-6352-4610-9f97-2c09dc3fd8dc",
   "metadata": {},
   "source": [
    "https://machinelearningmastery.com/display-deep-learning-model-training-history-in-keras/"
   ]
  },
  {
   "cell_type": "code",
   "execution_count": 10,
   "id": "f3326c6c-07e0-4c59-9655-3d36c6e966e9",
   "metadata": {
    "scrolled": true
   },
   "outputs": [
    {
     "data": {
      "text/html": [
       "<pre style=\"white-space:pre;overflow-x:auto;line-height:normal;font-family:Menlo,'DejaVu Sans Mono',consolas,'Courier New',monospace\"><span style=\"font-weight: bold\">Model: \"sequential\"</span>\n",
       "</pre>\n"
      ],
      "text/plain": [
       "\u001b[1mModel: \"sequential\"\u001b[0m\n"
      ]
     },
     "metadata": {},
     "output_type": "display_data"
    },
    {
     "data": {
      "text/html": [
       "<pre style=\"white-space:pre;overflow-x:auto;line-height:normal;font-family:Menlo,'DejaVu Sans Mono',consolas,'Courier New',monospace\">┏━━━━━━━━━━━━━━━━━━━━━━━━━━━━━━━━━━━━━━┳━━━━━━━━━━━━━━━━━━━━━━━━━━━━━┳━━━━━━━━━━━━━━━━━┓\n",
       "┃<span style=\"font-weight: bold\"> Layer (type)                         </span>┃<span style=\"font-weight: bold\"> Output Shape                </span>┃<span style=\"font-weight: bold\">         Param # </span>┃\n",
       "┡━━━━━━━━━━━━━━━━━━━━━━━━━━━━━━━━━━━━━━╇━━━━━━━━━━━━━━━━━━━━━━━━━━━━━╇━━━━━━━━━━━━━━━━━┩\n",
       "│ embedding (<span style=\"color: #0087ff; text-decoration-color: #0087ff\">Embedding</span>)                │ ?                           │     <span style=\"color: #00af00; text-decoration-color: #00af00\">0</span> (unbuilt) │\n",
       "├──────────────────────────────────────┼─────────────────────────────┼─────────────────┤\n",
       "│ flatten (<span style=\"color: #0087ff; text-decoration-color: #0087ff\">Flatten</span>)                    │ ?                           │     <span style=\"color: #00af00; text-decoration-color: #00af00\">0</span> (unbuilt) │\n",
       "├──────────────────────────────────────┼─────────────────────────────┼─────────────────┤\n",
       "│ dense (<span style=\"color: #0087ff; text-decoration-color: #0087ff\">Dense</span>)                        │ ?                           │     <span style=\"color: #00af00; text-decoration-color: #00af00\">0</span> (unbuilt) │\n",
       "├──────────────────────────────────────┼─────────────────────────────┼─────────────────┤\n",
       "│ dropout (<span style=\"color: #0087ff; text-decoration-color: #0087ff\">Dropout</span>)                    │ ?                           │     <span style=\"color: #00af00; text-decoration-color: #00af00\">0</span> (unbuilt) │\n",
       "├──────────────────────────────────────┼─────────────────────────────┼─────────────────┤\n",
       "│ dense_1 (<span style=\"color: #0087ff; text-decoration-color: #0087ff\">Dense</span>)                      │ ?                           │     <span style=\"color: #00af00; text-decoration-color: #00af00\">0</span> (unbuilt) │\n",
       "├──────────────────────────────────────┼─────────────────────────────┼─────────────────┤\n",
       "│ dropout_1 (<span style=\"color: #0087ff; text-decoration-color: #0087ff\">Dropout</span>)                  │ ?                           │     <span style=\"color: #00af00; text-decoration-color: #00af00\">0</span> (unbuilt) │\n",
       "├──────────────────────────────────────┼─────────────────────────────┼─────────────────┤\n",
       "│ dense_2 (<span style=\"color: #0087ff; text-decoration-color: #0087ff\">Dense</span>)                      │ ?                           │     <span style=\"color: #00af00; text-decoration-color: #00af00\">0</span> (unbuilt) │\n",
       "├──────────────────────────────────────┼─────────────────────────────┼─────────────────┤\n",
       "│ dropout_2 (<span style=\"color: #0087ff; text-decoration-color: #0087ff\">Dropout</span>)                  │ ?                           │     <span style=\"color: #00af00; text-decoration-color: #00af00\">0</span> (unbuilt) │\n",
       "├──────────────────────────────────────┼─────────────────────────────┼─────────────────┤\n",
       "│ dense_3 (<span style=\"color: #0087ff; text-decoration-color: #0087ff\">Dense</span>)                      │ ?                           │     <span style=\"color: #00af00; text-decoration-color: #00af00\">0</span> (unbuilt) │\n",
       "└──────────────────────────────────────┴─────────────────────────────┴─────────────────┘\n",
       "</pre>\n"
      ],
      "text/plain": [
       "┏━━━━━━━━━━━━━━━━━━━━━━━━━━━━━━━━━━━━━━┳━━━━━━━━━━━━━━━━━━━━━━━━━━━━━┳━━━━━━━━━━━━━━━━━┓\n",
       "┃\u001b[1m \u001b[0m\u001b[1mLayer (type)                        \u001b[0m\u001b[1m \u001b[0m┃\u001b[1m \u001b[0m\u001b[1mOutput Shape               \u001b[0m\u001b[1m \u001b[0m┃\u001b[1m \u001b[0m\u001b[1m        Param #\u001b[0m\u001b[1m \u001b[0m┃\n",
       "┡━━━━━━━━━━━━━━━━━━━━━━━━━━━━━━━━━━━━━━╇━━━━━━━━━━━━━━━━━━━━━━━━━━━━━╇━━━━━━━━━━━━━━━━━┩\n",
       "│ embedding (\u001b[38;5;33mEmbedding\u001b[0m)                │ ?                           │     \u001b[38;5;34m0\u001b[0m (unbuilt) │\n",
       "├──────────────────────────────────────┼─────────────────────────────┼─────────────────┤\n",
       "│ flatten (\u001b[38;5;33mFlatten\u001b[0m)                    │ ?                           │     \u001b[38;5;34m0\u001b[0m (unbuilt) │\n",
       "├──────────────────────────────────────┼─────────────────────────────┼─────────────────┤\n",
       "│ dense (\u001b[38;5;33mDense\u001b[0m)                        │ ?                           │     \u001b[38;5;34m0\u001b[0m (unbuilt) │\n",
       "├──────────────────────────────────────┼─────────────────────────────┼─────────────────┤\n",
       "│ dropout (\u001b[38;5;33mDropout\u001b[0m)                    │ ?                           │     \u001b[38;5;34m0\u001b[0m (unbuilt) │\n",
       "├──────────────────────────────────────┼─────────────────────────────┼─────────────────┤\n",
       "│ dense_1 (\u001b[38;5;33mDense\u001b[0m)                      │ ?                           │     \u001b[38;5;34m0\u001b[0m (unbuilt) │\n",
       "├──────────────────────────────────────┼─────────────────────────────┼─────────────────┤\n",
       "│ dropout_1 (\u001b[38;5;33mDropout\u001b[0m)                  │ ?                           │     \u001b[38;5;34m0\u001b[0m (unbuilt) │\n",
       "├──────────────────────────────────────┼─────────────────────────────┼─────────────────┤\n",
       "│ dense_2 (\u001b[38;5;33mDense\u001b[0m)                      │ ?                           │     \u001b[38;5;34m0\u001b[0m (unbuilt) │\n",
       "├──────────────────────────────────────┼─────────────────────────────┼─────────────────┤\n",
       "│ dropout_2 (\u001b[38;5;33mDropout\u001b[0m)                  │ ?                           │     \u001b[38;5;34m0\u001b[0m (unbuilt) │\n",
       "├──────────────────────────────────────┼─────────────────────────────┼─────────────────┤\n",
       "│ dense_3 (\u001b[38;5;33mDense\u001b[0m)                      │ ?                           │     \u001b[38;5;34m0\u001b[0m (unbuilt) │\n",
       "└──────────────────────────────────────┴─────────────────────────────┴─────────────────┘\n"
      ]
     },
     "metadata": {},
     "output_type": "display_data"
    },
    {
     "data": {
      "text/html": [
       "<pre style=\"white-space:pre;overflow-x:auto;line-height:normal;font-family:Menlo,'DejaVu Sans Mono',consolas,'Courier New',monospace\"><span style=\"font-weight: bold\"> Total params: </span><span style=\"color: #00af00; text-decoration-color: #00af00\">0</span> (0.00 B)\n",
       "</pre>\n"
      ],
      "text/plain": [
       "\u001b[1m Total params: \u001b[0m\u001b[38;5;34m0\u001b[0m (0.00 B)\n"
      ]
     },
     "metadata": {},
     "output_type": "display_data"
    },
    {
     "data": {
      "text/html": [
       "<pre style=\"white-space:pre;overflow-x:auto;line-height:normal;font-family:Menlo,'DejaVu Sans Mono',consolas,'Courier New',monospace\"><span style=\"font-weight: bold\"> Trainable params: </span><span style=\"color: #00af00; text-decoration-color: #00af00\">0</span> (0.00 B)\n",
       "</pre>\n"
      ],
      "text/plain": [
       "\u001b[1m Trainable params: \u001b[0m\u001b[38;5;34m0\u001b[0m (0.00 B)\n"
      ]
     },
     "metadata": {},
     "output_type": "display_data"
    },
    {
     "data": {
      "text/html": [
       "<pre style=\"white-space:pre;overflow-x:auto;line-height:normal;font-family:Menlo,'DejaVu Sans Mono',consolas,'Courier New',monospace\"><span style=\"font-weight: bold\"> Non-trainable params: </span><span style=\"color: #00af00; text-decoration-color: #00af00\">0</span> (0.00 B)\n",
       "</pre>\n"
      ],
      "text/plain": [
       "\u001b[1m Non-trainable params: \u001b[0m\u001b[38;5;34m0\u001b[0m (0.00 B)\n"
      ]
     },
     "metadata": {},
     "output_type": "display_data"
    }
   ],
   "source": [
    "model.add(Dense(50, activation='relu')) # first hidden layer\n",
    "model.add(Dropout(0.2))\n",
    "model.add(Dense(50, activation='relu')) # second hidden layer\n",
    "model.add(Dropout(0.5))\n",
    "model.add(Dense(50, activation='relu')) # third hidden layer\n",
    "model.add(Dropout(0.5))\n",
    "model.add(Dense(1, activation='sigmoid')) # output layer\n",
    "\n",
    "model.compile(optimizer='adam', loss='binary_crossentropy', metrics=['accuracy'])\n",
    "model.summary()"
   ]
  },
  {
   "cell_type": "code",
   "execution_count": 11,
   "id": "01604c41-d39f-40b1-afb1-6630c42a8319",
   "metadata": {},
   "outputs": [
    {
     "name": "stdout",
     "output_type": "stream",
     "text": [
      "Epoch 1/2\n",
      "\u001b[1m140/140\u001b[0m \u001b[32m━━━━━━━━━━━━━━━━━━━━\u001b[0m\u001b[37m\u001b[0m \u001b[1m5s\u001b[0m 14ms/step - accuracy: 0.4997 - loss: 0.7003 - val_accuracy: 0.5000 - val_loss: 0.7035\n",
      "Epoch 2/2\n",
      "\u001b[1m140/140\u001b[0m \u001b[32m━━━━━━━━━━━━━━━━━━━━\u001b[0m\u001b[37m\u001b[0m \u001b[1m2s\u001b[0m 14ms/step - accuracy: 0.6358 - loss: 0.6520 - val_accuracy: 0.5150 - val_loss: 0.7142\n",
      "Train Accuracy: 0.6549999713897705\n",
      "Test Accuracy: 0.5149999856948853\n"
     ]
    }
   ],
   "source": [
    "train_data = np.load('../data/train_data.npy')\n",
    "train_labels = np.load('../data/train_labels.npy')\n",
    "test_data = np.load('../data/test_data.npy')\n",
    "test_labels = np.load('../data/test_labels.npy')\n",
    "\n",
    "train_data = np.clip(train_data, 0, top_words - 1)\n",
    "test_data = np.clip(test_data, 0, top_words - 1)\n",
    "train_labels = (train_labels + 1) / 2\n",
    "test_labels = (test_labels + 1) / 2\n",
    "\n",
    "history = model.fit(train_data, train_labels, epochs=2, batch_size=10, validation_data=(test_data, test_labels))\n",
    "\n",
    "train_acc = history.history['accuracy'][-1]\n",
    "test_acc = history.history['val_accuracy'][-1]\n",
    "print(f'Train Accuracy: {train_acc}')\n",
    "print(f'Test Accuracy: {test_acc}')"
   ]
  },
  {
   "cell_type": "markdown",
   "id": "538098ac-ab94-427e-9006-3d12116616df",
   "metadata": {},
   "source": [
    "### One-Dimensional Convolutional Neural Network"
   ]
  },
  {
   "cell_type": "code",
   "execution_count": 12,
   "id": "976dd942-5290-44d3-921e-952d20325d32",
   "metadata": {},
   "outputs": [],
   "source": [
    "top_words = 5000\n",
    "model = Sequential()\n",
    "model.add(Embedding(top_words, 32, input_length=L))\n",
    "model.add(Conv1D(32, 3, activation='relu'))\n",
    "model.add(MaxPooling1D(2))\n",
    "model.add(Flatten())"
   ]
  },
  {
   "cell_type": "code",
   "execution_count": 13,
   "id": "fc86906d-50f5-48b3-8919-23339998bcf6",
   "metadata": {
    "scrolled": true
   },
   "outputs": [
    {
     "data": {
      "text/html": [
       "<pre style=\"white-space:pre;overflow-x:auto;line-height:normal;font-family:Menlo,'DejaVu Sans Mono',consolas,'Courier New',monospace\"><span style=\"font-weight: bold\">Model: \"sequential_1\"</span>\n",
       "</pre>\n"
      ],
      "text/plain": [
       "\u001b[1mModel: \"sequential_1\"\u001b[0m\n"
      ]
     },
     "metadata": {},
     "output_type": "display_data"
    },
    {
     "data": {
      "text/html": [
       "<pre style=\"white-space:pre;overflow-x:auto;line-height:normal;font-family:Menlo,'DejaVu Sans Mono',consolas,'Courier New',monospace\">┏━━━━━━━━━━━━━━━━━━━━━━━━━━━━━━━━━━━━━━┳━━━━━━━━━━━━━━━━━━━━━━━━━━━━━┳━━━━━━━━━━━━━━━━━┓\n",
       "┃<span style=\"font-weight: bold\"> Layer (type)                         </span>┃<span style=\"font-weight: bold\"> Output Shape                </span>┃<span style=\"font-weight: bold\">         Param # </span>┃\n",
       "┡━━━━━━━━━━━━━━━━━━━━━━━━━━━━━━━━━━━━━━╇━━━━━━━━━━━━━━━━━━━━━━━━━━━━━╇━━━━━━━━━━━━━━━━━┩\n",
       "│ embedding_1 (<span style=\"color: #0087ff; text-decoration-color: #0087ff\">Embedding</span>)              │ ?                           │     <span style=\"color: #00af00; text-decoration-color: #00af00\">0</span> (unbuilt) │\n",
       "├──────────────────────────────────────┼─────────────────────────────┼─────────────────┤\n",
       "│ conv1d (<span style=\"color: #0087ff; text-decoration-color: #0087ff\">Conv1D</span>)                      │ ?                           │     <span style=\"color: #00af00; text-decoration-color: #00af00\">0</span> (unbuilt) │\n",
       "├──────────────────────────────────────┼─────────────────────────────┼─────────────────┤\n",
       "│ max_pooling1d (<span style=\"color: #0087ff; text-decoration-color: #0087ff\">MaxPooling1D</span>)         │ ?                           │     <span style=\"color: #00af00; text-decoration-color: #00af00\">0</span> (unbuilt) │\n",
       "├──────────────────────────────────────┼─────────────────────────────┼─────────────────┤\n",
       "│ flatten_1 (<span style=\"color: #0087ff; text-decoration-color: #0087ff\">Flatten</span>)                  │ ?                           │     <span style=\"color: #00af00; text-decoration-color: #00af00\">0</span> (unbuilt) │\n",
       "├──────────────────────────────────────┼─────────────────────────────┼─────────────────┤\n",
       "│ dense_4 (<span style=\"color: #0087ff; text-decoration-color: #0087ff\">Dense</span>)                      │ ?                           │     <span style=\"color: #00af00; text-decoration-color: #00af00\">0</span> (unbuilt) │\n",
       "├──────────────────────────────────────┼─────────────────────────────┼─────────────────┤\n",
       "│ dropout_3 (<span style=\"color: #0087ff; text-decoration-color: #0087ff\">Dropout</span>)                  │ ?                           │     <span style=\"color: #00af00; text-decoration-color: #00af00\">0</span> (unbuilt) │\n",
       "├──────────────────────────────────────┼─────────────────────────────┼─────────────────┤\n",
       "│ dense_5 (<span style=\"color: #0087ff; text-decoration-color: #0087ff\">Dense</span>)                      │ ?                           │     <span style=\"color: #00af00; text-decoration-color: #00af00\">0</span> (unbuilt) │\n",
       "├──────────────────────────────────────┼─────────────────────────────┼─────────────────┤\n",
       "│ dropout_4 (<span style=\"color: #0087ff; text-decoration-color: #0087ff\">Dropout</span>)                  │ ?                           │     <span style=\"color: #00af00; text-decoration-color: #00af00\">0</span> (unbuilt) │\n",
       "├──────────────────────────────────────┼─────────────────────────────┼─────────────────┤\n",
       "│ dense_6 (<span style=\"color: #0087ff; text-decoration-color: #0087ff\">Dense</span>)                      │ ?                           │     <span style=\"color: #00af00; text-decoration-color: #00af00\">0</span> (unbuilt) │\n",
       "├──────────────────────────────────────┼─────────────────────────────┼─────────────────┤\n",
       "│ dropout_5 (<span style=\"color: #0087ff; text-decoration-color: #0087ff\">Dropout</span>)                  │ ?                           │     <span style=\"color: #00af00; text-decoration-color: #00af00\">0</span> (unbuilt) │\n",
       "├──────────────────────────────────────┼─────────────────────────────┼─────────────────┤\n",
       "│ dense_7 (<span style=\"color: #0087ff; text-decoration-color: #0087ff\">Dense</span>)                      │ ?                           │     <span style=\"color: #00af00; text-decoration-color: #00af00\">0</span> (unbuilt) │\n",
       "└──────────────────────────────────────┴─────────────────────────────┴─────────────────┘\n",
       "</pre>\n"
      ],
      "text/plain": [
       "┏━━━━━━━━━━━━━━━━━━━━━━━━━━━━━━━━━━━━━━┳━━━━━━━━━━━━━━━━━━━━━━━━━━━━━┳━━━━━━━━━━━━━━━━━┓\n",
       "┃\u001b[1m \u001b[0m\u001b[1mLayer (type)                        \u001b[0m\u001b[1m \u001b[0m┃\u001b[1m \u001b[0m\u001b[1mOutput Shape               \u001b[0m\u001b[1m \u001b[0m┃\u001b[1m \u001b[0m\u001b[1m        Param #\u001b[0m\u001b[1m \u001b[0m┃\n",
       "┡━━━━━━━━━━━━━━━━━━━━━━━━━━━━━━━━━━━━━━╇━━━━━━━━━━━━━━━━━━━━━━━━━━━━━╇━━━━━━━━━━━━━━━━━┩\n",
       "│ embedding_1 (\u001b[38;5;33mEmbedding\u001b[0m)              │ ?                           │     \u001b[38;5;34m0\u001b[0m (unbuilt) │\n",
       "├──────────────────────────────────────┼─────────────────────────────┼─────────────────┤\n",
       "│ conv1d (\u001b[38;5;33mConv1D\u001b[0m)                      │ ?                           │     \u001b[38;5;34m0\u001b[0m (unbuilt) │\n",
       "├──────────────────────────────────────┼─────────────────────────────┼─────────────────┤\n",
       "│ max_pooling1d (\u001b[38;5;33mMaxPooling1D\u001b[0m)         │ ?                           │     \u001b[38;5;34m0\u001b[0m (unbuilt) │\n",
       "├──────────────────────────────────────┼─────────────────────────────┼─────────────────┤\n",
       "│ flatten_1 (\u001b[38;5;33mFlatten\u001b[0m)                  │ ?                           │     \u001b[38;5;34m0\u001b[0m (unbuilt) │\n",
       "├──────────────────────────────────────┼─────────────────────────────┼─────────────────┤\n",
       "│ dense_4 (\u001b[38;5;33mDense\u001b[0m)                      │ ?                           │     \u001b[38;5;34m0\u001b[0m (unbuilt) │\n",
       "├──────────────────────────────────────┼─────────────────────────────┼─────────────────┤\n",
       "│ dropout_3 (\u001b[38;5;33mDropout\u001b[0m)                  │ ?                           │     \u001b[38;5;34m0\u001b[0m (unbuilt) │\n",
       "├──────────────────────────────────────┼─────────────────────────────┼─────────────────┤\n",
       "│ dense_5 (\u001b[38;5;33mDense\u001b[0m)                      │ ?                           │     \u001b[38;5;34m0\u001b[0m (unbuilt) │\n",
       "├──────────────────────────────────────┼─────────────────────────────┼─────────────────┤\n",
       "│ dropout_4 (\u001b[38;5;33mDropout\u001b[0m)                  │ ?                           │     \u001b[38;5;34m0\u001b[0m (unbuilt) │\n",
       "├──────────────────────────────────────┼─────────────────────────────┼─────────────────┤\n",
       "│ dense_6 (\u001b[38;5;33mDense\u001b[0m)                      │ ?                           │     \u001b[38;5;34m0\u001b[0m (unbuilt) │\n",
       "├──────────────────────────────────────┼─────────────────────────────┼─────────────────┤\n",
       "│ dropout_5 (\u001b[38;5;33mDropout\u001b[0m)                  │ ?                           │     \u001b[38;5;34m0\u001b[0m (unbuilt) │\n",
       "├──────────────────────────────────────┼─────────────────────────────┼─────────────────┤\n",
       "│ dense_7 (\u001b[38;5;33mDense\u001b[0m)                      │ ?                           │     \u001b[38;5;34m0\u001b[0m (unbuilt) │\n",
       "└──────────────────────────────────────┴─────────────────────────────┴─────────────────┘\n"
      ]
     },
     "metadata": {},
     "output_type": "display_data"
    },
    {
     "data": {
      "text/html": [
       "<pre style=\"white-space:pre;overflow-x:auto;line-height:normal;font-family:Menlo,'DejaVu Sans Mono',consolas,'Courier New',monospace\"><span style=\"font-weight: bold\"> Total params: </span><span style=\"color: #00af00; text-decoration-color: #00af00\">0</span> (0.00 B)\n",
       "</pre>\n"
      ],
      "text/plain": [
       "\u001b[1m Total params: \u001b[0m\u001b[38;5;34m0\u001b[0m (0.00 B)\n"
      ]
     },
     "metadata": {},
     "output_type": "display_data"
    },
    {
     "data": {
      "text/html": [
       "<pre style=\"white-space:pre;overflow-x:auto;line-height:normal;font-family:Menlo,'DejaVu Sans Mono',consolas,'Courier New',monospace\"><span style=\"font-weight: bold\"> Trainable params: </span><span style=\"color: #00af00; text-decoration-color: #00af00\">0</span> (0.00 B)\n",
       "</pre>\n"
      ],
      "text/plain": [
       "\u001b[1m Trainable params: \u001b[0m\u001b[38;5;34m0\u001b[0m (0.00 B)\n"
      ]
     },
     "metadata": {},
     "output_type": "display_data"
    },
    {
     "data": {
      "text/html": [
       "<pre style=\"white-space:pre;overflow-x:auto;line-height:normal;font-family:Menlo,'DejaVu Sans Mono',consolas,'Courier New',monospace\"><span style=\"font-weight: bold\"> Non-trainable params: </span><span style=\"color: #00af00; text-decoration-color: #00af00\">0</span> (0.00 B)\n",
       "</pre>\n"
      ],
      "text/plain": [
       "\u001b[1m Non-trainable params: \u001b[0m\u001b[38;5;34m0\u001b[0m (0.00 B)\n"
      ]
     },
     "metadata": {},
     "output_type": "display_data"
    }
   ],
   "source": [
    "model.add(Dense(50, activation='relu'))  # first hidden layer\n",
    "model.add(Dropout(0.2))\n",
    "model.add(Dense(50, activation='relu'))  # second hidden layer\n",
    "model.add(Dropout(0.5))\n",
    "model.add(Dense(50, activation='relu'))  # third hidden layer\n",
    "model.add(Dropout(0.5))\n",
    "model.add(Dense(1, activation='sigmoid'))  # output layer\n",
    "\n",
    "model.compile(optimizer='adam', loss='binary_crossentropy', metrics=['accuracy'])\n",
    "model.summary()"
   ]
  },
  {
   "cell_type": "code",
   "execution_count": 14,
   "id": "b2b4f29f-fe02-49f0-8a27-50cf5be3bcd0",
   "metadata": {},
   "outputs": [
    {
     "name": "stdout",
     "output_type": "stream",
     "text": [
      "Epoch 1/2\n",
      "\u001b[1m140/140\u001b[0m \u001b[32m━━━━━━━━━━━━━━━━━━━━\u001b[0m\u001b[37m\u001b[0m \u001b[1m6s\u001b[0m 17ms/step - accuracy: 0.4789 - loss: 0.7025 - val_accuracy: 0.5000 - val_loss: 0.6927\n",
      "Epoch 2/2\n",
      "\u001b[1m140/140\u001b[0m \u001b[32m━━━━━━━━━━━━━━━━━━━━\u001b[0m\u001b[37m\u001b[0m \u001b[1m2s\u001b[0m 16ms/step - accuracy: 0.5219 - loss: 0.6900 - val_accuracy: 0.5500 - val_loss: 0.6893\n",
      "Train Accuracy: 0.5285714268684387\n",
      "Test Accuracy: 0.550000011920929\n"
     ]
    }
   ],
   "source": [
    "history = model.fit(train_data, train_labels, epochs=2, batch_size=10, validation_data=(test_data, test_labels))\n",
    "\n",
    "train_acc = history.history['accuracy'][-1]\n",
    "test_acc = history.history['val_accuracy'][-1]\n",
    "print(f'Train Accuracy: {train_acc}')\n",
    "print(f'Test Accuracy: {test_acc}')"
   ]
  },
  {
   "cell_type": "markdown",
   "id": "6922c04e-a68e-4249-9dae-2c6d62da962a",
   "metadata": {},
   "source": [
    "### Long Short-Term Memory Recurrent Neural Network"
   ]
  },
  {
   "cell_type": "code",
   "execution_count": 15,
   "id": "9325bd79-b7d4-4a9a-b7bf-777fefdddebf",
   "metadata": {},
   "outputs": [
    {
     "data": {
      "text/html": [
       "<pre style=\"white-space:pre;overflow-x:auto;line-height:normal;font-family:Menlo,'DejaVu Sans Mono',consolas,'Courier New',monospace\"><span style=\"font-weight: bold\">Model: \"sequential_2\"</span>\n",
       "</pre>\n"
      ],
      "text/plain": [
       "\u001b[1mModel: \"sequential_2\"\u001b[0m\n"
      ]
     },
     "metadata": {},
     "output_type": "display_data"
    },
    {
     "data": {
      "text/html": [
       "<pre style=\"white-space:pre;overflow-x:auto;line-height:normal;font-family:Menlo,'DejaVu Sans Mono',consolas,'Courier New',monospace\">┏━━━━━━━━━━━━━━━━━━━━━━━━━━━━━━━━━━━━━━┳━━━━━━━━━━━━━━━━━━━━━━━━━━━━━┳━━━━━━━━━━━━━━━━━┓\n",
       "┃<span style=\"font-weight: bold\"> Layer (type)                         </span>┃<span style=\"font-weight: bold\"> Output Shape                </span>┃<span style=\"font-weight: bold\">         Param # </span>┃\n",
       "┡━━━━━━━━━━━━━━━━━━━━━━━━━━━━━━━━━━━━━━╇━━━━━━━━━━━━━━━━━━━━━━━━━━━━━╇━━━━━━━━━━━━━━━━━┩\n",
       "│ embedding_2 (<span style=\"color: #0087ff; text-decoration-color: #0087ff\">Embedding</span>)              │ ?                           │     <span style=\"color: #00af00; text-decoration-color: #00af00\">0</span> (unbuilt) │\n",
       "├──────────────────────────────────────┼─────────────────────────────┼─────────────────┤\n",
       "│ lstm (<span style=\"color: #0087ff; text-decoration-color: #0087ff\">LSTM</span>)                          │ ?                           │     <span style=\"color: #00af00; text-decoration-color: #00af00\">0</span> (unbuilt) │\n",
       "├──────────────────────────────────────┼─────────────────────────────┼─────────────────┤\n",
       "│ dense_8 (<span style=\"color: #0087ff; text-decoration-color: #0087ff\">Dense</span>)                      │ ?                           │     <span style=\"color: #00af00; text-decoration-color: #00af00\">0</span> (unbuilt) │\n",
       "├──────────────────────────────────────┼─────────────────────────────┼─────────────────┤\n",
       "│ dropout_6 (<span style=\"color: #0087ff; text-decoration-color: #0087ff\">Dropout</span>)                  │ ?                           │     <span style=\"color: #00af00; text-decoration-color: #00af00\">0</span> (unbuilt) │\n",
       "├──────────────────────────────────────┼─────────────────────────────┼─────────────────┤\n",
       "│ dense_9 (<span style=\"color: #0087ff; text-decoration-color: #0087ff\">Dense</span>)                      │ ?                           │     <span style=\"color: #00af00; text-decoration-color: #00af00\">0</span> (unbuilt) │\n",
       "└──────────────────────────────────────┴─────────────────────────────┴─────────────────┘\n",
       "</pre>\n"
      ],
      "text/plain": [
       "┏━━━━━━━━━━━━━━━━━━━━━━━━━━━━━━━━━━━━━━┳━━━━━━━━━━━━━━━━━━━━━━━━━━━━━┳━━━━━━━━━━━━━━━━━┓\n",
       "┃\u001b[1m \u001b[0m\u001b[1mLayer (type)                        \u001b[0m\u001b[1m \u001b[0m┃\u001b[1m \u001b[0m\u001b[1mOutput Shape               \u001b[0m\u001b[1m \u001b[0m┃\u001b[1m \u001b[0m\u001b[1m        Param #\u001b[0m\u001b[1m \u001b[0m┃\n",
       "┡━━━━━━━━━━━━━━━━━━━━━━━━━━━━━━━━━━━━━━╇━━━━━━━━━━━━━━━━━━━━━━━━━━━━━╇━━━━━━━━━━━━━━━━━┩\n",
       "│ embedding_2 (\u001b[38;5;33mEmbedding\u001b[0m)              │ ?                           │     \u001b[38;5;34m0\u001b[0m (unbuilt) │\n",
       "├──────────────────────────────────────┼─────────────────────────────┼─────────────────┤\n",
       "│ lstm (\u001b[38;5;33mLSTM\u001b[0m)                          │ ?                           │     \u001b[38;5;34m0\u001b[0m (unbuilt) │\n",
       "├──────────────────────────────────────┼─────────────────────────────┼─────────────────┤\n",
       "│ dense_8 (\u001b[38;5;33mDense\u001b[0m)                      │ ?                           │     \u001b[38;5;34m0\u001b[0m (unbuilt) │\n",
       "├──────────────────────────────────────┼─────────────────────────────┼─────────────────┤\n",
       "│ dropout_6 (\u001b[38;5;33mDropout\u001b[0m)                  │ ?                           │     \u001b[38;5;34m0\u001b[0m (unbuilt) │\n",
       "├──────────────────────────────────────┼─────────────────────────────┼─────────────────┤\n",
       "│ dense_9 (\u001b[38;5;33mDense\u001b[0m)                      │ ?                           │     \u001b[38;5;34m0\u001b[0m (unbuilt) │\n",
       "└──────────────────────────────────────┴─────────────────────────────┴─────────────────┘\n"
      ]
     },
     "metadata": {},
     "output_type": "display_data"
    },
    {
     "data": {
      "text/html": [
       "<pre style=\"white-space:pre;overflow-x:auto;line-height:normal;font-family:Menlo,'DejaVu Sans Mono',consolas,'Courier New',monospace\"><span style=\"font-weight: bold\"> Total params: </span><span style=\"color: #00af00; text-decoration-color: #00af00\">0</span> (0.00 B)\n",
       "</pre>\n"
      ],
      "text/plain": [
       "\u001b[1m Total params: \u001b[0m\u001b[38;5;34m0\u001b[0m (0.00 B)\n"
      ]
     },
     "metadata": {},
     "output_type": "display_data"
    },
    {
     "data": {
      "text/html": [
       "<pre style=\"white-space:pre;overflow-x:auto;line-height:normal;font-family:Menlo,'DejaVu Sans Mono',consolas,'Courier New',monospace\"><span style=\"font-weight: bold\"> Trainable params: </span><span style=\"color: #00af00; text-decoration-color: #00af00\">0</span> (0.00 B)\n",
       "</pre>\n"
      ],
      "text/plain": [
       "\u001b[1m Trainable params: \u001b[0m\u001b[38;5;34m0\u001b[0m (0.00 B)\n"
      ]
     },
     "metadata": {},
     "output_type": "display_data"
    },
    {
     "data": {
      "text/html": [
       "<pre style=\"white-space:pre;overflow-x:auto;line-height:normal;font-family:Menlo,'DejaVu Sans Mono',consolas,'Courier New',monospace\"><span style=\"font-weight: bold\"> Non-trainable params: </span><span style=\"color: #00af00; text-decoration-color: #00af00\">0</span> (0.00 B)\n",
       "</pre>\n"
      ],
      "text/plain": [
       "\u001b[1m Non-trainable params: \u001b[0m\u001b[38;5;34m0\u001b[0m (0.00 B)\n"
      ]
     },
     "metadata": {},
     "output_type": "display_data"
    }
   ],
   "source": [
    "top_words = 5000\n",
    "model = Sequential()\n",
    "model.add(Embedding(top_words, 32, input_length=L))\n",
    "model.add(LSTM(32, dropout=0.2, recurrent_dropout=0.2))  # LSTM Layer\n",
    "model.add(Dense(256, activation='relu')) # dense layer\n",
    "model.add(Dropout(0.2))\n",
    "model.add(Dense(1, activation='sigmoid')) # output layer\n",
    "\n",
    "model.compile(optimizer='adam', loss='binary_crossentropy', metrics=['accuracy'])\n",
    "model.summary()"
   ]
  },
  {
   "cell_type": "code",
   "execution_count": 16,
   "id": "d043a495-72e6-4f90-aaee-6162a7bca23c",
   "metadata": {
    "scrolled": true
   },
   "outputs": [
    {
     "name": "stdout",
     "output_type": "stream",
     "text": [
      "Epoch 1/20\n",
      "\u001b[1m140/140\u001b[0m \u001b[32m━━━━━━━━━━━━━━━━━━━━\u001b[0m\u001b[37m\u001b[0m \u001b[1m32s\u001b[0m 204ms/step - accuracy: 0.5450 - loss: 0.6907 - val_accuracy: 0.5600 - val_loss: 0.6872\n",
      "Epoch 2/20\n",
      "\u001b[1m140/140\u001b[0m \u001b[32m━━━━━━━━━━━━━━━━━━━━\u001b[0m\u001b[37m\u001b[0m \u001b[1m32s\u001b[0m 227ms/step - accuracy: 0.5361 - loss: 0.6872 - val_accuracy: 0.5583 - val_loss: 0.6835\n",
      "Epoch 3/20\n",
      "\u001b[1m140/140\u001b[0m \u001b[32m━━━━━━━━━━━━━━━━━━━━\u001b[0m\u001b[37m\u001b[0m \u001b[1m39s\u001b[0m 280ms/step - accuracy: 0.5299 - loss: 0.6618 - val_accuracy: 0.5500 - val_loss: 0.6964\n",
      "Epoch 4/20\n",
      "\u001b[1m140/140\u001b[0m \u001b[32m━━━━━━━━━━━━━━━━━━━━\u001b[0m\u001b[37m\u001b[0m \u001b[1m30s\u001b[0m 216ms/step - accuracy: 0.6593 - loss: 0.5959 - val_accuracy: 0.5517 - val_loss: 0.7923\n",
      "Epoch 5/20\n",
      "\u001b[1m140/140\u001b[0m \u001b[32m━━━━━━━━━━━━━━━━━━━━\u001b[0m\u001b[37m\u001b[0m \u001b[1m40s\u001b[0m 205ms/step - accuracy: 0.6496 - loss: 0.5324 - val_accuracy: 0.5233 - val_loss: 0.8324\n",
      "Epoch 6/20\n",
      "\u001b[1m140/140\u001b[0m \u001b[32m━━━━━━━━━━━━━━━━━━━━\u001b[0m\u001b[37m\u001b[0m \u001b[1m38s\u001b[0m 183ms/step - accuracy: 0.6551 - loss: 0.4991 - val_accuracy: 0.5317 - val_loss: 1.0462\n",
      "Epoch 7/20\n",
      "\u001b[1m140/140\u001b[0m \u001b[32m━━━━━━━━━━━━━━━━━━━━\u001b[0m\u001b[37m\u001b[0m \u001b[1m27s\u001b[0m 191ms/step - accuracy: 0.6671 - loss: 0.4987 - val_accuracy: 0.5300 - val_loss: 1.0428\n",
      "Epoch 8/20\n",
      "\u001b[1m140/140\u001b[0m \u001b[32m━━━━━━━━━━━━━━━━━━━━\u001b[0m\u001b[37m\u001b[0m \u001b[1m30s\u001b[0m 212ms/step - accuracy: 0.6653 - loss: 0.4927 - val_accuracy: 0.5250 - val_loss: 0.9038\n",
      "Epoch 9/20\n",
      "\u001b[1m140/140\u001b[0m \u001b[32m━━━━━━━━━━━━━━━━━━━━\u001b[0m\u001b[37m\u001b[0m \u001b[1m34s\u001b[0m 243ms/step - accuracy: 0.6643 - loss: 0.4848 - val_accuracy: 0.5250 - val_loss: 1.0464\n",
      "Epoch 10/20\n",
      "\u001b[1m140/140\u001b[0m \u001b[32m━━━━━━━━━━━━━━━━━━━━\u001b[0m\u001b[37m\u001b[0m \u001b[1m40s\u001b[0m 286ms/step - accuracy: 0.6434 - loss: 0.4917 - val_accuracy: 0.5317 - val_loss: 1.1548\n",
      "Epoch 11/20\n",
      "\u001b[1m140/140\u001b[0m \u001b[32m━━━━━━━━━━━━━━━━━━━━\u001b[0m\u001b[37m\u001b[0m \u001b[1m32s\u001b[0m 225ms/step - accuracy: 0.6628 - loss: 0.4932 - val_accuracy: 0.5233 - val_loss: 1.2141\n",
      "Epoch 12/20\n",
      "\u001b[1m140/140\u001b[0m \u001b[32m━━━━━━━━━━━━━━━━━━━━\u001b[0m\u001b[37m\u001b[0m \u001b[1m29s\u001b[0m 208ms/step - accuracy: 0.6835 - loss: 0.4728 - val_accuracy: 0.5217 - val_loss: 1.2448\n",
      "Epoch 13/20\n",
      "\u001b[1m140/140\u001b[0m \u001b[32m━━━━━━━━━━━━━━━━━━━━\u001b[0m\u001b[37m\u001b[0m \u001b[1m27s\u001b[0m 192ms/step - accuracy: 0.6816 - loss: 0.4888 - val_accuracy: 0.5233 - val_loss: 1.2458\n",
      "Epoch 14/20\n",
      "\u001b[1m140/140\u001b[0m \u001b[32m━━━━━━━━━━━━━━━━━━━━\u001b[0m\u001b[37m\u001b[0m \u001b[1m26s\u001b[0m 185ms/step - accuracy: 0.6876 - loss: 0.4815 - val_accuracy: 0.5317 - val_loss: 1.2553\n",
      "Epoch 15/20\n",
      "\u001b[1m140/140\u001b[0m \u001b[32m━━━━━━━━━━━━━━━━━━━━\u001b[0m\u001b[37m\u001b[0m \u001b[1m24s\u001b[0m 175ms/step - accuracy: 0.6553 - loss: 0.4907 - val_accuracy: 0.5367 - val_loss: 1.2476\n",
      "Epoch 16/20\n",
      "\u001b[1m140/140\u001b[0m \u001b[32m━━━━━━━━━━━━━━━━━━━━\u001b[0m\u001b[37m\u001b[0m \u001b[1m28s\u001b[0m 199ms/step - accuracy: 0.6840 - loss: 0.4838 - val_accuracy: 0.5200 - val_loss: 0.9817\n",
      "Epoch 17/20\n",
      "\u001b[1m140/140\u001b[0m \u001b[32m━━━━━━━━━━━━━━━━━━━━\u001b[0m\u001b[37m\u001b[0m \u001b[1m31s\u001b[0m 221ms/step - accuracy: 0.6830 - loss: 0.4934 - val_accuracy: 0.5167 - val_loss: 1.2668\n",
      "Epoch 18/20\n",
      "\u001b[1m140/140\u001b[0m \u001b[32m━━━━━━━━━━━━━━━━━━━━\u001b[0m\u001b[37m\u001b[0m \u001b[1m42s\u001b[0m 300ms/step - accuracy: 0.6635 - loss: 0.4911 - val_accuracy: 0.5167 - val_loss: 1.3686\n",
      "Epoch 19/20\n",
      "\u001b[1m140/140\u001b[0m \u001b[32m━━━━━━━━━━━━━━━━━━━━\u001b[0m\u001b[37m\u001b[0m \u001b[1m33s\u001b[0m 236ms/step - accuracy: 0.6886 - loss: 0.4921 - val_accuracy: 0.5150 - val_loss: 1.4686\n",
      "Epoch 20/20\n",
      "\u001b[1m140/140\u001b[0m \u001b[32m━━━━━━━━━━━━━━━━━━━━\u001b[0m\u001b[37m\u001b[0m \u001b[1m29s\u001b[0m 206ms/step - accuracy: 0.6711 - loss: 0.4900 - val_accuracy: 0.5150 - val_loss: 1.5891\n"
     ]
    }
   ],
   "source": [
    "history = model.fit(train_data, train_labels, epochs=20, batch_size=10, validation_data=(test_data, test_labels))"
   ]
  },
  {
   "cell_type": "code",
   "execution_count": 17,
   "id": "4d638bdd-705e-4d9d-a9d9-58983eab5bad",
   "metadata": {},
   "outputs": [
    {
     "name": "stdout",
     "output_type": "stream",
     "text": [
      "Train Accuracy: 0.6785714030265808\n",
      "Test Accuracy: 0.5149999856948853\n"
     ]
    }
   ],
   "source": [
    "train_acc = history.history['accuracy'][-1]\n",
    "test_acc = history.history['val_accuracy'][-1]\n",
    "print(f'Train Accuracy: {train_acc}')\n",
    "print(f'Test Accuracy: {test_acc}')"
   ]
  },
  {
   "cell_type": "markdown",
   "id": "87eb70ad-998d-40ec-b262-0ce86984424d",
   "metadata": {},
   "source": [
    "The train accuracy improved a lot using LSTM, but the test accuray remains at the same level"
   ]
  },
  {
   "cell_type": "code",
   "execution_count": 18,
   "id": "0797222d-8951-4c83-a9b2-8f5faf54da9d",
   "metadata": {
    "scrolled": true
   },
   "outputs": [
    {
     "name": "stdout",
     "output_type": "stream",
     "text": [
      "Epoch 1/50\n",
      "\u001b[1m140/140\u001b[0m \u001b[32m━━━━━━━━━━━━━━━━━━━━\u001b[0m\u001b[37m\u001b[0m \u001b[1m27s\u001b[0m 194ms/step - accuracy: 0.6753 - loss: 0.4912 - val_accuracy: 0.5067 - val_loss: 1.2129\n",
      "Epoch 2/50\n",
      "\u001b[1m140/140\u001b[0m \u001b[32m━━━━━━━━━━━━━━━━━━━━\u001b[0m\u001b[37m\u001b[0m \u001b[1m23s\u001b[0m 162ms/step - accuracy: 0.6788 - loss: 0.5009 - val_accuracy: 0.5233 - val_loss: 1.1896\n",
      "Epoch 3/50\n",
      "\u001b[1m140/140\u001b[0m \u001b[32m━━━━━━━━━━━━━━━━━━━━\u001b[0m\u001b[37m\u001b[0m \u001b[1m26s\u001b[0m 187ms/step - accuracy: 0.6989 - loss: 0.4823 - val_accuracy: 0.5200 - val_loss: 1.3001\n",
      "Epoch 4/50\n",
      "\u001b[1m140/140\u001b[0m \u001b[32m━━━━━━━━━━━━━━━━━━━━\u001b[0m\u001b[37m\u001b[0m \u001b[1m28s\u001b[0m 203ms/step - accuracy: 0.6915 - loss: 0.4688 - val_accuracy: 0.5167 - val_loss: 1.4027\n",
      "Epoch 5/50\n",
      "\u001b[1m140/140\u001b[0m \u001b[32m━━━━━━━━━━━━━━━━━━━━\u001b[0m\u001b[37m\u001b[0m \u001b[1m30s\u001b[0m 213ms/step - accuracy: 0.7132 - loss: 0.4654 - val_accuracy: 0.5100 - val_loss: 1.4619\n",
      "Epoch 6/50\n",
      "\u001b[1m140/140\u001b[0m \u001b[32m━━━━━━━━━━━━━━━━━━━━\u001b[0m\u001b[37m\u001b[0m \u001b[1m51s\u001b[0m 287ms/step - accuracy: 0.6723 - loss: 0.4838 - val_accuracy: 0.5150 - val_loss: 1.5826\n",
      "Epoch 7/50\n",
      "\u001b[1m140/140\u001b[0m \u001b[32m━━━━━━━━━━━━━━━━━━━━\u001b[0m\u001b[37m\u001b[0m \u001b[1m29s\u001b[0m 209ms/step - accuracy: 0.6886 - loss: 0.4838 - val_accuracy: 0.5267 - val_loss: 1.1829\n",
      "Epoch 8/50\n",
      "\u001b[1m140/140\u001b[0m \u001b[32m━━━━━━━━━━━━━━━━━━━━\u001b[0m\u001b[37m\u001b[0m \u001b[1m38s\u001b[0m 163ms/step - accuracy: 0.6831 - loss: 0.4791 - val_accuracy: 0.5267 - val_loss: 1.2844\n",
      "Epoch 9/50\n",
      "\u001b[1m140/140\u001b[0m \u001b[32m━━━━━━━━━━━━━━━━━━━━\u001b[0m\u001b[37m\u001b[0m \u001b[1m25s\u001b[0m 179ms/step - accuracy: 0.6776 - loss: 0.4848 - val_accuracy: 0.5167 - val_loss: 1.3682\n",
      "Epoch 10/50\n",
      "\u001b[1m140/140\u001b[0m \u001b[32m━━━━━━━━━━━━━━━━━━━━\u001b[0m\u001b[37m\u001b[0m \u001b[1m26s\u001b[0m 183ms/step - accuracy: 0.6841 - loss: 0.4857 - val_accuracy: 0.5200 - val_loss: 1.4645\n",
      "Epoch 11/50\n",
      "\u001b[1m140/140\u001b[0m \u001b[32m━━━━━━━━━━━━━━━━━━━━\u001b[0m\u001b[37m\u001b[0m \u001b[1m29s\u001b[0m 204ms/step - accuracy: 0.6863 - loss: 0.4950 - val_accuracy: 0.5200 - val_loss: 1.4884\n",
      "Epoch 12/50\n",
      "\u001b[1m140/140\u001b[0m \u001b[32m━━━━━━━━━━━━━━━━━━━━\u001b[0m\u001b[37m\u001b[0m \u001b[1m30s\u001b[0m 215ms/step - accuracy: 0.6917 - loss: 0.4664 - val_accuracy: 0.5200 - val_loss: 1.5138\n",
      "Epoch 13/50\n",
      "\u001b[1m140/140\u001b[0m \u001b[32m━━━━━━━━━━━━━━━━━━━━\u001b[0m\u001b[37m\u001b[0m \u001b[1m38s\u001b[0m 270ms/step - accuracy: 0.6881 - loss: 0.4878 - val_accuracy: 0.5200 - val_loss: 1.4787\n",
      "Epoch 14/50\n",
      "\u001b[1m140/140\u001b[0m \u001b[32m━━━━━━━━━━━━━━━━━━━━\u001b[0m\u001b[37m\u001b[0m \u001b[1m37s\u001b[0m 261ms/step - accuracy: 0.6747 - loss: 0.4939 - val_accuracy: 0.5250 - val_loss: 1.1873\n",
      "Epoch 15/50\n",
      "\u001b[1m140/140\u001b[0m \u001b[32m━━━━━━━━━━━━━━━━━━━━\u001b[0m\u001b[37m\u001b[0m \u001b[1m28s\u001b[0m 203ms/step - accuracy: 0.6806 - loss: 0.4760 - val_accuracy: 0.5250 - val_loss: 1.3251\n",
      "Epoch 16/50\n",
      "\u001b[1m140/140\u001b[0m \u001b[32m━━━━━━━━━━━━━━━━━━━━\u001b[0m\u001b[37m\u001b[0m \u001b[1m28s\u001b[0m 201ms/step - accuracy: 0.6801 - loss: 0.4751 - val_accuracy: 0.5250 - val_loss: 1.3796\n",
      "Epoch 17/50\n",
      "\u001b[1m140/140\u001b[0m \u001b[32m━━━━━━━━━━━━━━━━━━━━\u001b[0m\u001b[37m\u001b[0m \u001b[1m67s\u001b[0m 484ms/step - accuracy: 0.6731 - loss: 0.4820 - val_accuracy: 0.5233 - val_loss: 1.4470\n",
      "Epoch 18/50\n",
      "\u001b[1m140/140\u001b[0m \u001b[32m━━━━━━━━━━━━━━━━━━━━\u001b[0m\u001b[37m\u001b[0m \u001b[1m50s\u001b[0m 233ms/step - accuracy: 0.6783 - loss: 0.4738 - val_accuracy: 0.5183 - val_loss: 1.5019\n",
      "Epoch 19/50\n",
      "\u001b[1m140/140\u001b[0m \u001b[32m━━━━━━━━━━━━━━━━━━━━\u001b[0m\u001b[37m\u001b[0m \u001b[1m48s\u001b[0m 283ms/step - accuracy: 0.6883 - loss: 0.4816 - val_accuracy: 0.5183 - val_loss: 1.3070\n",
      "Epoch 20/50\n",
      "\u001b[1m140/140\u001b[0m \u001b[32m━━━━━━━━━━━━━━━━━━━━\u001b[0m\u001b[37m\u001b[0m \u001b[1m31s\u001b[0m 218ms/step - accuracy: 0.6941 - loss: 0.4705 - val_accuracy: 0.5283 - val_loss: 1.4232\n",
      "Epoch 21/50\n",
      "\u001b[1m140/140\u001b[0m \u001b[32m━━━━━━━━━━━━━━━━━━━━\u001b[0m\u001b[37m\u001b[0m \u001b[1m29s\u001b[0m 210ms/step - accuracy: 0.6763 - loss: 0.4838 - val_accuracy: 0.5300 - val_loss: 1.4681\n",
      "Epoch 22/50\n",
      "\u001b[1m140/140\u001b[0m \u001b[32m━━━━━━━━━━━━━━━━━━━━\u001b[0m\u001b[37m\u001b[0m \u001b[1m27s\u001b[0m 191ms/step - accuracy: 0.6836 - loss: 0.4887 - val_accuracy: 0.5250 - val_loss: 1.3856\n",
      "Epoch 23/50\n",
      "\u001b[1m140/140\u001b[0m \u001b[32m━━━━━━━━━━━━━━━━━━━━\u001b[0m\u001b[37m\u001b[0m \u001b[1m26s\u001b[0m 188ms/step - accuracy: 0.6981 - loss: 0.4725 - val_accuracy: 0.5300 - val_loss: 1.4582\n",
      "Epoch 24/50\n",
      "\u001b[1m140/140\u001b[0m \u001b[32m━━━━━━━━━━━━━━━━━━━━\u001b[0m\u001b[37m\u001b[0m \u001b[1m27s\u001b[0m 192ms/step - accuracy: 0.6921 - loss: 0.4687 - val_accuracy: 0.5283 - val_loss: 1.5542\n",
      "Epoch 25/50\n",
      "\u001b[1m140/140\u001b[0m \u001b[32m━━━━━━━━━━━━━━━━━━━━\u001b[0m\u001b[37m\u001b[0m \u001b[1m29s\u001b[0m 207ms/step - accuracy: 0.6793 - loss: 0.4869 - val_accuracy: 0.5433 - val_loss: 1.3999\n",
      "Epoch 26/50\n",
      "\u001b[1m140/140\u001b[0m \u001b[32m━━━━━━━━━━━━━━━━━━━━\u001b[0m\u001b[37m\u001b[0m \u001b[1m35s\u001b[0m 249ms/step - accuracy: 0.6858 - loss: 0.4790 - val_accuracy: 0.5300 - val_loss: 1.6181\n",
      "Epoch 27/50\n",
      "\u001b[1m140/140\u001b[0m \u001b[32m━━━━━━━━━━━━━━━━━━━━\u001b[0m\u001b[37m\u001b[0m \u001b[1m41s\u001b[0m 294ms/step - accuracy: 0.6905 - loss: 0.4865 - val_accuracy: 0.5150 - val_loss: 1.6697\n",
      "Epoch 28/50\n",
      "\u001b[1m140/140\u001b[0m \u001b[32m━━━━━━━━━━━━━━━━━━━━\u001b[0m\u001b[37m\u001b[0m \u001b[1m29s\u001b[0m 203ms/step - accuracy: 0.6949 - loss: 0.4684 - val_accuracy: 0.5150 - val_loss: 1.7296\n",
      "Epoch 29/50\n",
      "\u001b[1m140/140\u001b[0m \u001b[32m━━━━━━━━━━━━━━━━━━━━\u001b[0m\u001b[37m\u001b[0m \u001b[1m29s\u001b[0m 206ms/step - accuracy: 0.6976 - loss: 0.4649 - val_accuracy: 0.5183 - val_loss: 1.5726\n",
      "Epoch 30/50\n",
      "\u001b[1m140/140\u001b[0m \u001b[32m━━━━━━━━━━━━━━━━━━━━\u001b[0m\u001b[37m\u001b[0m \u001b[1m27s\u001b[0m 193ms/step - accuracy: 0.6557 - loss: 0.4762 - val_accuracy: 0.5217 - val_loss: 1.5643\n",
      "Epoch 31/50\n",
      "\u001b[1m140/140\u001b[0m \u001b[32m━━━━━━━━━━━━━━━━━━━━\u001b[0m\u001b[37m\u001b[0m \u001b[1m26s\u001b[0m 186ms/step - accuracy: 0.6992 - loss: 0.4684 - val_accuracy: 0.5217 - val_loss: 1.6882\n",
      "Epoch 32/50\n",
      "\u001b[1m140/140\u001b[0m \u001b[32m━━━━━━━━━━━━━━━━━━━━\u001b[0m\u001b[37m\u001b[0m \u001b[1m27s\u001b[0m 194ms/step - accuracy: 0.6925 - loss: 0.4590 - val_accuracy: 0.5217 - val_loss: 1.7853\n",
      "Epoch 33/50\n",
      "\u001b[1m140/140\u001b[0m \u001b[32m━━━━━━━━━━━━━━━━━━━━\u001b[0m\u001b[37m\u001b[0m \u001b[1m29s\u001b[0m 208ms/step - accuracy: 0.7092 - loss: 0.4602 - val_accuracy: 0.5283 - val_loss: 1.9137\n",
      "Epoch 34/50\n",
      "\u001b[1m140/140\u001b[0m \u001b[32m━━━━━━━━━━━━━━━━━━━━\u001b[0m\u001b[37m\u001b[0m \u001b[1m36s\u001b[0m 259ms/step - accuracy: 0.6842 - loss: 0.4821 - val_accuracy: 0.5183 - val_loss: 1.2925\n",
      "Epoch 35/50\n",
      "\u001b[1m140/140\u001b[0m \u001b[32m━━━━━━━━━━━━━━━━━━━━\u001b[0m\u001b[37m\u001b[0m \u001b[1m42s\u001b[0m 298ms/step - accuracy: 0.6817 - loss: 0.4735 - val_accuracy: 0.4983 - val_loss: 1.2763\n",
      "Epoch 36/50\n",
      "\u001b[1m140/140\u001b[0m \u001b[32m━━━━━━━━━━━━━━━━━━━━\u001b[0m\u001b[37m\u001b[0m \u001b[1m68s\u001b[0m 196ms/step - accuracy: 0.6783 - loss: 0.4846 - val_accuracy: 0.5283 - val_loss: 1.3701\n",
      "Epoch 37/50\n",
      "\u001b[1m140/140\u001b[0m \u001b[32m━━━━━━━━━━━━━━━━━━━━\u001b[0m\u001b[37m\u001b[0m \u001b[1m39s\u001b[0m 181ms/step - accuracy: 0.6696 - loss: 0.4668 - val_accuracy: 0.5250 - val_loss: 1.5145\n",
      "Epoch 38/50\n",
      "\u001b[1m140/140\u001b[0m \u001b[32m━━━━━━━━━━━━━━━━━━━━\u001b[0m\u001b[37m\u001b[0m \u001b[1m27s\u001b[0m 196ms/step - accuracy: 0.6865 - loss: 0.4707 - val_accuracy: 0.5233 - val_loss: 1.4706\n",
      "Epoch 39/50\n",
      "\u001b[1m140/140\u001b[0m \u001b[32m━━━━━━━━━━━━━━━━━━━━\u001b[0m\u001b[37m\u001b[0m \u001b[1m29s\u001b[0m 207ms/step - accuracy: 0.6941 - loss: 0.4538 - val_accuracy: 0.5450 - val_loss: 1.4916\n",
      "Epoch 40/50\n",
      "\u001b[1m140/140\u001b[0m \u001b[32m━━━━━━━━━━━━━━━━━━━━\u001b[0m\u001b[37m\u001b[0m \u001b[1m35s\u001b[0m 248ms/step - accuracy: 0.7077 - loss: 0.4505 - val_accuracy: 0.5383 - val_loss: 1.4937\n",
      "Epoch 41/50\n",
      "\u001b[1m140/140\u001b[0m \u001b[32m━━━━━━━━━━━━━━━━━━━━\u001b[0m\u001b[37m\u001b[0m \u001b[1m42s\u001b[0m 300ms/step - accuracy: 0.7116 - loss: 0.4310 - val_accuracy: 0.5600 - val_loss: 1.6128\n",
      "Epoch 42/50\n",
      "\u001b[1m140/140\u001b[0m \u001b[32m━━━━━━━━━━━━━━━━━━━━\u001b[0m\u001b[37m\u001b[0m \u001b[1m68s\u001b[0m 197ms/step - accuracy: 0.7401 - loss: 0.4074 - val_accuracy: 0.5300 - val_loss: 1.6226\n",
      "Epoch 43/50\n",
      "\u001b[1m140/140\u001b[0m \u001b[32m━━━━━━━━━━━━━━━━━━━━\u001b[0m\u001b[37m\u001b[0m \u001b[1m26s\u001b[0m 187ms/step - accuracy: 0.7852 - loss: 0.3785 - val_accuracy: 0.5550 - val_loss: 1.7263\n",
      "Epoch 44/50\n",
      "\u001b[1m140/140\u001b[0m \u001b[32m━━━━━━━━━━━━━━━━━━━━\u001b[0m\u001b[37m\u001b[0m \u001b[1m26s\u001b[0m 188ms/step - accuracy: 0.7973 - loss: 0.3542 - val_accuracy: 0.5417 - val_loss: 1.6661\n",
      "Epoch 45/50\n",
      "\u001b[1m140/140\u001b[0m \u001b[32m━━━━━━━━━━━━━━━━━━━━\u001b[0m\u001b[37m\u001b[0m \u001b[1m29s\u001b[0m 208ms/step - accuracy: 0.8749 - loss: 0.2611 - val_accuracy: 0.5400 - val_loss: 1.8742\n",
      "Epoch 46/50\n",
      "\u001b[1m140/140\u001b[0m \u001b[32m━━━━━━━━━━━━━━━━━━━━\u001b[0m\u001b[37m\u001b[0m \u001b[1m31s\u001b[0m 221ms/step - accuracy: 0.9151 - loss: 0.2138 - val_accuracy: 0.5167 - val_loss: 1.8148\n",
      "Epoch 47/50\n",
      "\u001b[1m140/140\u001b[0m \u001b[32m━━━━━━━━━━━━━━━━━━━━\u001b[0m\u001b[37m\u001b[0m \u001b[1m53s\u001b[0m 307ms/step - accuracy: 0.9551 - loss: 0.1457 - val_accuracy: 0.5067 - val_loss: 1.6412\n",
      "Epoch 48/50\n",
      "\u001b[1m140/140\u001b[0m \u001b[32m━━━━━━━━━━━━━━━━━━━━\u001b[0m\u001b[37m\u001b[0m \u001b[1m68s\u001b[0m 200ms/step - accuracy: 0.9745 - loss: 0.0807 - val_accuracy: 0.5400 - val_loss: 1.9817\n",
      "Epoch 49/50\n",
      "\u001b[1m140/140\u001b[0m \u001b[32m━━━━━━━━━━━━━━━━━━━━\u001b[0m\u001b[37m\u001b[0m \u001b[1m26s\u001b[0m 184ms/step - accuracy: 0.9786 - loss: 0.0667 - val_accuracy: 0.5150 - val_loss: 2.4228\n",
      "Epoch 50/50\n",
      "\u001b[1m140/140\u001b[0m \u001b[32m━━━━━━━━━━━━━━━━━━━━\u001b[0m\u001b[37m\u001b[0m \u001b[1m26s\u001b[0m 184ms/step - accuracy: 0.9855 - loss: 0.0514 - val_accuracy: 0.5317 - val_loss: 2.2939\n"
     ]
    }
   ],
   "source": [
    "# Using 50 epoches\n",
    "history = model.fit(train_data, train_labels, epochs=50, batch_size=10, validation_data=(test_data, test_labels))"
   ]
  },
  {
   "cell_type": "code",
   "execution_count": 19,
   "id": "741ff0c3-6dd8-42ed-baa7-97e187559258",
   "metadata": {},
   "outputs": [
    {
     "name": "stdout",
     "output_type": "stream",
     "text": [
      "Train Accuracy: 0.9850000143051147\n",
      "Test Accuracy: 0.5316666960716248\n"
     ]
    }
   ],
   "source": [
    "train_acc = history.history['accuracy'][-1]\n",
    "test_acc = history.history['val_accuracy'][-1]\n",
    "print(f'Train Accuracy: {train_acc}')\n",
    "print(f'Test Accuracy: {test_acc}')"
   ]
  },
  {
   "cell_type": "markdown",
   "id": "836fd519-4945-42c9-b456-52c7c91e81ea",
   "metadata": {},
   "source": [
    "The train accuracy significantly improved when using more epochs, but the test accuray still remains at the same level."
   ]
  }
 ],
 "metadata": {
  "kernelspec": {
   "display_name": "Python (tf_env)",
   "language": "python",
   "name": "tf_env"
  },
  "language_info": {
   "codemirror_mode": {
    "name": "ipython",
    "version": 3
   },
   "file_extension": ".py",
   "mimetype": "text/x-python",
   "name": "python",
   "nbconvert_exporter": "python",
   "pygments_lexer": "ipython3",
   "version": "3.9.8"
  }
 },
 "nbformat": 4,
 "nbformat_minor": 5
}
